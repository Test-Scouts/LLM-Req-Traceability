{
 "cells": [
  {
   "cell_type": "code",
   "execution_count": null,
   "metadata": {},
   "outputs": [],
   "source": [
    "import pandas as pd\n",
    "import dotenv  \n",
    "import os\n",
    "\n",
    "dotenv.load_dotenv()"
   ]
  },
  {
   "cell_type": "code",
   "execution_count": null,
   "metadata": {},
   "outputs": [],
   "source": [
    "req_diarie_env = os.getenv(\"REQ_DIARIE_CSV\")\n",
    "st_diarie_env = os.getenv(\"ST_DIARIE_CSV\")\n",
    "\n",
    "print(req_diarie_env)\n",
    "print(st_diarie_env)\n"
   ]
  },
  {
   "cell_type": "code",
   "execution_count": null,
   "metadata": {},
   "outputs": [],
   "source": [
    "req_df = pd.read_csv(req_diarie_env)\n",
    "req_headers = req_df.columns.tolist()\n",
    "print(req_headers)"
   ]
  }
 ],
 "metadata": {
  "language_info": {
   "name": "python"
  }
 },
 "nbformat": 4,
 "nbformat_minor": 2
}
